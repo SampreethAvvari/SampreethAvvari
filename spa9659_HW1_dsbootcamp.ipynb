{
  "nbformat": 4,
  "nbformat_minor": 0,
  "metadata": {
    "colab": {
      "provenance": [],
      "authorship_tag": "ABX9TyP8qdz60Rc1+b6xFj3YPjLD",
      "include_colab_link": true
    },
    "kernelspec": {
      "name": "python3",
      "display_name": "Python 3"
    },
    "language_info": {
      "name": "python"
    }
  },
  "cells": [
    {
      "cell_type": "markdown",
      "metadata": {
        "id": "view-in-github",
        "colab_type": "text"
      },
      "source": [
        "<a href=\"https://colab.research.google.com/github/SampreethAvvari/SampreethAvvari/blob/main/spa9659_HW1_dsbootcamp.ipynb\" target=\"_parent\"><img src=\"https://colab.research.google.com/assets/colab-badge.svg\" alt=\"Open In Colab\"/></a>"
      ]
    },
    {
      "cell_type": "markdown",
      "source": [
        "Display Fibonacci Series upto 10 terms"
      ],
      "metadata": {
        "id": "b1tG1PaFCBFy"
      }
    },
    {
      "cell_type": "code",
      "source": [
        "print(\"index\\tnumber\")\n",
        "a=0\n",
        "b=1\n",
        "print(\"1\\t\", a)\n",
        "i=0\n",
        "for idx,i in enumerate(range(9)):\n",
        "  temp=a\n",
        "  a=b\n",
        "  b=temp + b\n",
        "  print(idx+2,\"\\t\",a)\n",
        "  i+=i"
      ],
      "metadata": {
        "colab": {
          "base_uri": "https://localhost:8080/"
        },
        "id": "EQxcOGIaCEmv",
        "outputId": "db0f76cb-b14a-4a9f-a0c4-4b2ccfb53bed"
      },
      "execution_count": 29,
      "outputs": [
        {
          "output_type": "stream",
          "name": "stdout",
          "text": [
            "index\tnumber\n",
            "1\t 0\n",
            "2 \t 1\n",
            "3 \t 1\n",
            "4 \t 2\n",
            "5 \t 3\n",
            "6 \t 5\n",
            "7 \t 8\n",
            "8 \t 13\n",
            "9 \t 21\n",
            "10 \t 34\n"
          ]
        }
      ]
    },
    {
      "cell_type": "markdown",
      "source": [
        "Display numbers at the odd indices of a list"
      ],
      "metadata": {
        "id": "1L_iFKTXDyP_"
      }
    },
    {
      "cell_type": "code",
      "source": [
        "l:list = [1,2,3,4,5,6,7,8,9,10]\n",
        "print(l[::2])"
      ],
      "metadata": {
        "colab": {
          "base_uri": "https://localhost:8080/"
        },
        "id": "wfy-CkQ8EZXF",
        "outputId": "0c2334c6-9907-4076-b6ac-b0afbdcd727a"
      },
      "execution_count": 18,
      "outputs": [
        {
          "output_type": "stream",
          "name": "stdout",
          "text": [
            "[1, 3, 5, 7, 9]\n"
          ]
        }
      ]
    },
    {
      "cell_type": "markdown",
      "source": [
        "Print a list in reverse order"
      ],
      "metadata": {
        "id": "hDoG7E_qEtEo"
      }
    },
    {
      "cell_type": "code",
      "source": [
        "l:list = [1,2,3,4,5,6,7,8,9,10]\n",
        "print(l[::-1])"
      ],
      "metadata": {
        "colab": {
          "base_uri": "https://localhost:8080/"
        },
        "id": "2oWS7ZT8Evz1",
        "outputId": "cbaa8417-e87e-48f9-e0c2-a8d771045b7a"
      },
      "execution_count": 19,
      "outputs": [
        {
          "output_type": "stream",
          "name": "stdout",
          "text": [
            "[10, 9, 8, 7, 6, 5, 4, 3, 2, 1]\n"
          ]
        }
      ]
    },
    {
      "cell_type": "markdown",
      "source": [
        "Your task is to count the number of different words in this text:\n",
        "\n",
        "string = \"\"\"\n",
        "\tChatGPT has created this text to provide tips on creating interesting paragraphs.\n",
        "\tFirst, start with a clear topic sentence that introduces the main idea.\n",
        "\tThen, support the topic sentence with specific details, examples, and evidence.\n",
        "\tVary the sentence length and structure to keep the reader engaged.\n",
        "\tFinally, end with a strong concluding sentence that summarizes the main points.\n",
        "\tRemember, practice makes perfect!\n",
        "\t\"\"\""
      ],
      "metadata": {
        "id": "ki048wMjE2LM"
      }
    },
    {
      "cell_type": "code",
      "source": [
        "string = \"\"\" ChatGPT has created this text to provide tips on creating interesting paragraphs. First, start with a clear topic sentence that introduces the main idea. Then, support the topic sentence with specific details, examples, and evidence. Vary the sentence length and structure to keep the reader engaged. Finally, end with a strong concluding sentence that summarizes the main points. Remember, practice makes perfect! \"\"\"\n",
        "print(len(string.split()))"
      ],
      "metadata": {
        "colab": {
          "base_uri": "https://localhost:8080/"
        },
        "id": "xFdNjh9mFCGo",
        "outputId": "f65fe142-d383-4661-e3d0-b37da2785065"
      },
      "execution_count": 23,
      "outputs": [
        {
          "output_type": "stream",
          "name": "stdout",
          "text": [
            "62\n"
          ]
        }
      ]
    },
    {
      "cell_type": "markdown",
      "source": [
        "Write a function that takes a word as an argument and returns the number of vowels in the word"
      ],
      "metadata": {
        "id": "8C41KRJlFpE0"
      }
    },
    {
      "cell_type": "code",
      "source": [
        "def vowels(word):\n",
        "  return sum(True for char in word.lower() if char in 'aeiou')\n",
        "\n",
        "word1 = \"sAmpreeth\"\n",
        "vowels(word1)"
      ],
      "metadata": {
        "colab": {
          "base_uri": "https://localhost:8080/"
        },
        "id": "-jaCphKBFsj9",
        "outputId": "96812aae-e2d8-4d23-cfb2-2f3fbec6f6a8"
      },
      "execution_count": 28,
      "outputs": [
        {
          "output_type": "execute_result",
          "data": {
            "text/plain": [
              "3"
            ]
          },
          "metadata": {},
          "execution_count": 28
        }
      ]
    },
    {
      "cell_type": "markdown",
      "source": [
        "Iterate through the following list of animals and print each one in all caps.\n",
        "\n",
        "animals=['tiger', 'elephant', 'monkey', 'zebra', 'panther']"
      ],
      "metadata": {
        "id": "T5uj6XcuHf_I"
      }
    },
    {
      "cell_type": "code",
      "source": [
        "animals=['tiger', 'elephant', 'monkey', 'zebra', 'panther']\n",
        "for animal in animals:\n",
        "  print(animal.upper())"
      ],
      "metadata": {
        "colab": {
          "base_uri": "https://localhost:8080/"
        },
        "id": "KaMbL7YNIqH5",
        "outputId": "0a9d102e-121d-402f-9bce-029b50ad5e11"
      },
      "execution_count": 30,
      "outputs": [
        {
          "output_type": "stream",
          "name": "stdout",
          "text": [
            "TIGER\n",
            "ELEPHANT\n",
            "MONKEY\n",
            "ZEBRA\n",
            "PANTHER\n"
          ]
        }
      ]
    },
    {
      "cell_type": "markdown",
      "source": [
        "Iterate from 1 to 15, printing whether the number is odd or even\n"
      ],
      "metadata": {
        "id": "HzwShIatI-Vo"
      }
    },
    {
      "cell_type": "code",
      "source": [
        "print(\"Number\\tOdd/Even\")\n",
        "for i in range(1,16):\n",
        "  print(i,\"\\t\",\"Even\"if(i%2==0)else\"Odd\")"
      ],
      "metadata": {
        "colab": {
          "base_uri": "https://localhost:8080/"
        },
        "id": "3lSem1aCJSAW",
        "outputId": "72e93556-7211-41d2-ab40-679f64251709"
      },
      "execution_count": 36,
      "outputs": [
        {
          "output_type": "stream",
          "name": "stdout",
          "text": [
            "Number\tOdd/Even\n",
            "1 \t Odd\n",
            "2 \t Even\n",
            "3 \t Odd\n",
            "4 \t Even\n",
            "5 \t Odd\n",
            "6 \t Even\n",
            "7 \t Odd\n",
            "8 \t Even\n",
            "9 \t Odd\n",
            "10 \t Even\n",
            "11 \t Odd\n",
            "12 \t Even\n",
            "13 \t Odd\n",
            "14 \t Even\n",
            "15 \t Odd\n"
          ]
        }
      ]
    },
    {
      "cell_type": "markdown",
      "source": [
        "Take two integers as input from user and return the sum"
      ],
      "metadata": {
        "id": "vFRfkEcgJ-Zo"
      }
    },
    {
      "cell_type": "code",
      "source": [
        "try:\n",
        "  print(\"Enter Number 1\")\n",
        "  num1 = int(input())\n",
        "  print(\"Enter Number 2\")\n",
        "  num2 = int(input())\n",
        "  print(\"The sum of the two numbers is\", num1 + num2)\n",
        "except:\n",
        "  print(\"Inputs should be integers\")\n"
      ],
      "metadata": {
        "colab": {
          "base_uri": "https://localhost:8080/"
        },
        "id": "p9FNydJBKAAu",
        "outputId": "bac9dfa3-1409-48c4-df8e-4cf43c858f30"
      },
      "execution_count": 64,
      "outputs": [
        {
          "output_type": "stream",
          "name": "stdout",
          "text": [
            "Enter Number 1\n",
            "22\n",
            "Enter Number 2\n",
            "zds'\n",
            "Inputs should be integers\n"
          ]
        }
      ]
    }
  ]
}